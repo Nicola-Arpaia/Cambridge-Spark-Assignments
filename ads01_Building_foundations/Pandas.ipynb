{
 "cells": [
  {
   "cell_type": "code",
   "execution_count": 1,
   "metadata": {},
   "outputs": [],
   "source": [
    "def filter_rep(df):\n",
    "    \"\"\"\n",
    "    Write a function that takes a DataFrame with a colum `A` of integers and\n",
    "    filters out the rows which contain the same value as a row above.\n",
    "    Check that the index is right, use reset_index if necessary.\n",
    "\n",
    "    Example:\n",
    "        A   ...            A   ...\n",
    "    ___________        ___________\n",
    "    0 | 1 | ...        0 | 1 | ...\n",
    "    1 | 1 | ...        1 | 0 | ...\n",
    "    2 | 0 | ...  -->   2 | 5 | ...\n",
    "    3 | 5 | ...        3 | 2 | ...\n",
    "    4 | 5 | ...\n",
    "    5 | 5 | ...\n",
    "    6 | 2 | ...\n",
    "    7 | 1 | ...\n",
    "\n",
    "    :param df: input data frame with a column `A`\n",
    "    :type df: pandas.DataFrame\n",
    "    :return: a dataframe where rows have been filtered out\n",
    "    :rtype: pandas.DataFrame\n",
    "    \"\"\"\n",
    "\n",
    "    filtered_df = df.drop_duplicates(subset='A', keep='first')\n",
    "    filtered_df.reset_index(drop=True, inplace=True)\n",
    "\n",
    "    return filtered_df"
   ]
  },
  {
   "cell_type": "code",
   "execution_count": 2,
   "metadata": {},
   "outputs": [],
   "source": [
    "def subtract_row_mean(df):\n",
    "    \"\"\"\n",
    "    Given a DataFrame of numeric values, write a function to subtract the row\n",
    "    mean from each element in the row.\n",
    "\n",
    "    Example:\n",
    "        A   B   C                A     B     C\n",
    "    _____________         _____________________\n",
    "    0 | 1 | 5 | 0    -->  0 | -1.0 | 3.0 | -2.0\n",
    "    1 | 2 | 6 | 1         1 | -1.0 | 3.0 | -2.0\n",
    "\n",
    "    :param df: input data frame\n",
    "    :type df:  pandas.DataFrame\n",
    "    :return:  a dataframe where each row is centred\n",
    "    :rtype:   pandas.DataFrame\n",
    "    \"\"\"\n",
    "\n",
    "    return df.sub(df.mean(axis=1), axis=0)\n"
   ]
  }
 ],
 "metadata": {
  "kernelspec": {
   "display_name": "Python 3",
   "language": "python",
   "name": "python3"
  },
  "language_info": {
   "codemirror_mode": {
    "name": "ipython",
    "version": 3
   },
   "file_extension": ".py",
   "mimetype": "text/x-python",
   "name": "python",
   "nbconvert_exporter": "python",
   "pygments_lexer": "ipython3",
   "version": "3.8.5"
  }
 },
 "nbformat": 4,
 "nbformat_minor": 4
}
