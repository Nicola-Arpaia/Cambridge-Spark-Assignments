{
 "cells": [
  {
   "cell_type": "markdown",
   "metadata": {},
   "source": [
    "# A set of numpy exercises"
   ]
  },
  {
   "cell_type": "code",
   "execution_count": 1,
   "metadata": {},
   "outputs": [],
   "source": [
    "import numpy as np"
   ]
  },
  {
   "cell_type": "code",
   "execution_count": 2,
   "metadata": {},
   "outputs": [],
   "source": [
    "def zero_insert(x):\n",
    "    \"\"\"\n",
    "    Write a function that takes in a vector and returns a new vector where\n",
    "    every element is separated by 4 consecutive zeros.\n",
    "\n",
    "    Example:\n",
    "    [4, 2, 1] --> [4, 0, 0, 0, 0, 2, 0, 0, 0, 0, 1]\n",
    "\n",
    "    :param x: input vector\n",
    "    :type x: numpy.array\n",
    "    :return: input vector with elements separated by 4 zeros\n",
    "    :rtype: numpy.array\n",
    "    \"\"\"\n",
    "\n",
    "    arr = x\n",
    "    for i in range(1, x.size):\n",
    "        j = 5*i - 4  # Set index position\n",
    "        idx = [j, j, j, j]\n",
    "        arr = np.insert(arr, idx, [0, 0, 0, 0], axis=0)\n",
    "    return arr"
   ]
  },
  {
   "cell_type": "code",
   "execution_count": 3,
   "metadata": {},
   "outputs": [],
   "source": [
    "def return_closest(x, val):\n",
    "    \"\"\"\n",
    "    Write a function that takes in a vector and returns the value contained in\n",
    "    the vector that is closest to a given value.\n",
    "    If two values are equidistant from val, return the one that comes first in\n",
    "    the vector.\n",
    "\n",
    "    Example:\n",
    "    ([3, 4, 5], 2) --> 3\n",
    "\n",
    "    :param x: input vector\n",
    "    :type x: numpy.array of int/float\n",
    "    :param val: input value\n",
    "    :type val: int | float\n",
    "    :return: value from x closest to val\n",
    "    :rtype: int | float\n",
    "    :raise ValueError:\n",
    "    \"\"\"\n",
    "    y = abs(x-val)\n",
    "    return x[np.argmin(y)]"
   ]
  },
  {
   "cell_type": "code",
   "execution_count": 4,
   "metadata": {},
   "outputs": [],
   "source": [
    "def cauchy(x, y):\n",
    "    \"\"\"\n",
    "    Write a function that takes in two vectors and returns the associated\n",
    "    Cauchy matrix with entries a_ij = 1/(x_i-y_j).\n",
    "\n",
    "    Example:\n",
    "    ([1, 2], [3, 4]) --> [[-1/2, -1/3], [-1, -1/2]]\n",
    "\n",
    "    Note: the function should raise an error of type ValueError if there is a\n",
    "    pair (i,j) such that x_i=y_j\n",
    "\n",
    "    :param x: input vector\n",
    "    :type x: numpy.array of int/float\n",
    "    :param y: input vector\n",
    "    :type y: numpy.array of int/float\n",
    "    :return: Cauchy matrix with entries 1/(x_i-y_j)\n",
    "    :rtype: numpy.array of float\n",
    "    :raise ValueError:\n",
    "    \"\"\"\n",
    "\n",
    "    x_mat = x.reshape(x.size, 1)\n",
    "    y_mat = y.reshape(1, y.size)\n",
    "\n",
    "    # if any elements are zero return value error\n",
    "    if np.any(x_mat - y_mat == 0):\n",
    "        raise ValueError\n",
    "\n",
    "    return 1/(x_mat - y_mat)"
   ]
  },
  {
   "cell_type": "code",
   "execution_count": 5,
   "metadata": {},
   "outputs": [],
   "source": [
    "def most_similar(x, v_list):\n",
    "    \"\"\"\n",
    "    Write a function that takes in a vector x and a list of vectors and finds,\n",
    "    in the list, the index of the vector that is most similar to x using\n",
    "    cosine similarity.\n",
    "\n",
    "    Example:\n",
    "    ([1, 1], [[1, 0.9], [-1, 1]]) --> 0 (corresponding to [1,0.9])\n",
    "\n",
    "    :param x: input vector\n",
    "    :type x: numpy.array of int/float\n",
    "    :param v_list: list of vectors\n",
    "    :type v_list: list of numpy.array\n",
    "    :return: index of element in list that is closest to x in cosine-sim\n",
    "    :rtype: int\n",
    "    \"\"\"\n",
    "    max_cos = 0\n",
    "    vec_pos = 0\n",
    "    for i, vec in enumerate(v_list):\n",
    "\n",
    "        cos_sim = (np.dot(x, vec)/(np.linalg.norm(x)*np.linalg.norm(vec)))\n",
    "        if cos_sim > max_cos:\n",
    "            max_cos = cos_sim\n",
    "            vec_pos = i\n",
    "    return vec_pos"
   ]
  }
 ],
 "metadata": {
  "kernelspec": {
   "display_name": "Python 3",
   "language": "python",
   "name": "python3"
  },
  "language_info": {
   "codemirror_mode": {
    "name": "ipython",
    "version": 3
   },
   "file_extension": ".py",
   "mimetype": "text/x-python",
   "name": "python",
   "nbconvert_exporter": "python",
   "pygments_lexer": "ipython3",
   "version": "3.8.5"
  }
 },
 "nbformat": 4,
 "nbformat_minor": 4
}
