{
 "cells": [
  {
   "cell_type": "code",
   "execution_count": 1,
   "metadata": {},
   "outputs": [],
   "source": [
    "import numpy as np\n",
    "import matplotlib.pyplot as plt"
   ]
  },
  {
   "cell_type": "code",
   "execution_count": 2,
   "metadata": {},
   "outputs": [],
   "source": [
    "\n",
    "\n",
    "\n",
    "def draw_co2_plot():\n",
    "    \"\"\"\n",
    "    Here is some chemistry data\n",
    "\n",
    "      Time (decade): 0, 1, 2, 3, 4, 5, 6\n",
    "      CO2 concentration (ppm): 250, 265, 272, 260, 300, 320, 389\n",
    "\n",
    "    Create a line graph of CO2 versus time, the line should be a blue dashed\n",
    "    line.\n",
    "\n",
    "    The title of the plot should be 'Chemistry data'\n",
    "    The label of the x axis should be 'Time (decade)'\n",
    "    The label of the y axis should be 'CO2 concentration (ppm)'\n",
    "\n",
    "    Your function does not need to return the plot -\n",
    "    the final line of the function should be\n",
    "    (assuming you have imported pyplot as plt):\n",
    "    plt.show()\n",
    "    \"\"\"\n",
    "\n",
    "    time = np.array([0, 1, 2, 3, 4, 5, 6])\n",
    "    co2 = np.array([250, 265, 272, 260, 300, 320, 389])\n",
    "\n",
    "    plt.plot(time, co2, ls='--')\n",
    "    plt.title('Chemistry data')\n",
    "    plt.xlabel('Time (decade)')\n",
    "    plt.ylabel('CO2 concentration (ppm)')\n",
    "    plt.show()"
   ]
  },
  {
   "cell_type": "code",
   "execution_count": 3,
   "metadata": {},
   "outputs": [],
   "source": [
    "def draw_equations_plot():\n",
    "    \"\"\"\n",
    "    Plot the following lines on the same plot\n",
    "\n",
    "      y=cos(x) coloured in red with dashed lines\n",
    "      y=x^2 coloured in blue with linewidth 3\n",
    "      y=exp(-x^2) coloured in black\n",
    "\n",
    "    Add a legend, title for the x-axis and a title to the curve, the x-axis\n",
    "    should range from -4 to 4 (with 50 points) and the y axis should range\n",
    "    from 0 to 2. The figure should have a size of 8x6 inches.\n",
    "\n",
    "    NOTE: Make sure you create the figure at the beginning as doing it at the\n",
    "    end will reset any plotting you have done, and again finish with plt.show()\n",
    "    \"\"\"\n",
    "\n",
    "    x = np.linspace(-4, 4, 50)\n",
    "    fig = plt.figure(figsize=(8, 6))\n",
    "    ax = fig.add_axes([0, 0, 1, 1])\n",
    "    plt.xlim([-4, 4])\n",
    "    plt.ylim([0, 2])\n",
    "    ax.plot(x, np.cos(x), ls='--', color='r', label='y=cos(x)')\n",
    "    ax.plot(x, x**2, color='b', lw=3, label='y=x^2')\n",
    "    ax.plot(x, np.exp(-(x**2)), color='black', label='y=exp(-x^2)')\n",
    "    ax.set_title('3 example graphs')\n",
    "    ax.set_xlabel('x Values')\n",
    "    ax.legend()\n",
    "    plt.show()"
   ]
  }
 ],
 "metadata": {
  "kernelspec": {
   "display_name": "Python 3",
   "language": "python",
   "name": "python3"
  },
  "language_info": {
   "codemirror_mode": {
    "name": "ipython",
    "version": 3
   },
   "file_extension": ".py",
   "mimetype": "text/x-python",
   "name": "python",
   "nbconvert_exporter": "python",
   "pygments_lexer": "ipython3",
   "version": "3.8.5"
  }
 },
 "nbformat": 4,
 "nbformat_minor": 4
}
