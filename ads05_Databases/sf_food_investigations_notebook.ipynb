{
 "cells": [
  {
   "cell_type": "markdown",
   "metadata": {},
   "source": [
    "# Setup\n",
    "Install the necessary dependencies with `pip install ipython-sql`"
   ]
  },
  {
   "cell_type": "code",
   "execution_count": 1,
   "metadata": {},
   "outputs": [
    {
     "data": {
      "text/plain": [
       "'Connected: @sfscores.sqlite'"
      ]
     },
     "execution_count": 1,
     "metadata": {},
     "output_type": "execute_result"
    }
   ],
   "source": [
    "%load_ext sql\n",
    "%sql sqlite:///sfscores.sqlite\n"
   ]
  },
  {
   "cell_type": "markdown",
   "metadata": {},
   "source": [
    "# How to submit\n",
    "You are welcome to use this notebook to interactive try out different SQL queries.\n",
    "\n",
    "To assess whether your queries are correct you will need to complete the 3 submission files provided.\n",
    "\n",
    "Refer to the `README.md` for background on the dataset."
   ]
  },
  {
   "cell_type": "markdown",
   "metadata": {},
   "source": [
    "# Queries"
   ]
  },
  {
   "cell_type": "markdown",
   "metadata": {},
   "source": [
    "## Pt1: Essentials"
   ]
  },
  {
   "cell_type": "markdown",
   "metadata": {},
   "source": [
    "**1. Write a SQL query that finds the number of business ids in the businesses table**"
   ]
  },
  {
   "cell_type": "code",
   "execution_count": 2,
   "metadata": {},
   "outputs": [
    {
     "name": "stdout",
     "output_type": "stream",
     "text": [
      " * sqlite:///sfscores.sqlite\n",
      "Done.\n"
     ]
    },
    {
     "data": {
      "text/html": [
       "<table>\n",
       "    <thead>\n",
       "        <tr>\n",
       "            <th>business_id</th>\n",
       "            <th>name</th>\n",
       "            <th>address</th>\n",
       "            <th>city</th>\n",
       "            <th>postal_code</th>\n",
       "            <th>latitude</th>\n",
       "            <th>longitude</th>\n",
       "            <th>phone_number</th>\n",
       "            <th>TaxCode</th>\n",
       "            <th>business_certificate</th>\n",
       "            <th>application_date</th>\n",
       "            <th>owner_name</th>\n",
       "            <th>owner_address</th>\n",
       "            <th>owner_city</th>\n",
       "            <th>owner_state</th>\n",
       "            <th>owner_zip</th>\n",
       "        </tr>\n",
       "    </thead>\n",
       "    <tbody>\n",
       "        <tr>\n",
       "            <td>10</td>\n",
       "            <td>Tiramisu Kitchen</td>\n",
       "            <td>033 Belden Pl</td>\n",
       "            <td>San Francisco</td>\n",
       "            <td>94104</td>\n",
       "            <td>37.791116</td>\n",
       "            <td>-122.403816</td>\n",
       "            <td>None</td>\n",
       "            <td>H24</td>\n",
       "            <td>779059</td>\n",
       "            <td>None</td>\n",
       "            <td>Tiramisu LLC</td>\n",
       "            <td>33 Belden St</td>\n",
       "            <td>San Francisco</td>\n",
       "            <td>CA</td>\n",
       "            <td>94104</td>\n",
       "        </tr>\n",
       "        <tr>\n",
       "            <td>19</td>\n",
       "            <td>Nrgize Lifestyle Cafe</td>\n",
       "            <td>1200 Van Ness Ave, 3rd Floor</td>\n",
       "            <td>San Francisco</td>\n",
       "            <td>94109</td>\n",
       "            <td>37.786848</td>\n",
       "            <td>-122.421547</td>\n",
       "            <td>None</td>\n",
       "            <td>H24</td>\n",
       "            <td>None</td>\n",
       "            <td>None</td>\n",
       "            <td>24 Hour Fitness Inc</td>\n",
       "            <td>1200 Van Ness Ave, 3rd Floor</td>\n",
       "            <td>San Francisco</td>\n",
       "            <td>CA</td>\n",
       "            <td>94109</td>\n",
       "        </tr>\n",
       "        <tr>\n",
       "            <td>24</td>\n",
       "            <td>OMNI S.F. Hotel - 2nd Floor Pantry</td>\n",
       "            <td>500 California St, 2nd  Floor</td>\n",
       "            <td>San Francisco</td>\n",
       "            <td>94104</td>\n",
       "            <td>37.792888</td>\n",
       "            <td>-122.403135</td>\n",
       "            <td>None</td>\n",
       "            <td>H24</td>\n",
       "            <td>352312</td>\n",
       "            <td>None</td>\n",
       "            <td>OMNI San Francisco Hotel Corp</td>\n",
       "            <td>500 California St, 2nd Floor</td>\n",
       "            <td>San Francisco</td>\n",
       "            <td>CA</td>\n",
       "            <td>94104</td>\n",
       "        </tr>\n",
       "        <tr>\n",
       "            <td>31</td>\n",
       "            <td>Norman&#x27;s Ice Cream and Freezes</td>\n",
       "            <td>2801 Leavenworth St</td>\n",
       "            <td>San Francisco</td>\n",
       "            <td>94133</td>\n",
       "            <td>37.807155</td>\n",
       "            <td>-122.419004</td>\n",
       "            <td>None</td>\n",
       "            <td>H24</td>\n",
       "            <td>346882</td>\n",
       "            <td>None</td>\n",
       "            <td>Norman Antiforda</td>\n",
       "            <td>2801 Leavenworth St</td>\n",
       "            <td>San Francisco</td>\n",
       "            <td>CA</td>\n",
       "            <td>94133</td>\n",
       "        </tr>\n",
       "        <tr>\n",
       "            <td>45</td>\n",
       "            <td>CHARLIE&#x27;S DELI CAFE</td>\n",
       "            <td>3202 FOLSOM St</td>\n",
       "            <td>S.F.</td>\n",
       "            <td>94110</td>\n",
       "            <td>37.747114</td>\n",
       "            <td>-122.413641</td>\n",
       "            <td>None</td>\n",
       "            <td>H24</td>\n",
       "            <td>340024</td>\n",
       "            <td>2001-10-10</td>\n",
       "            <td>HARB, CHARLES AND KRISTIN</td>\n",
       "            <td>1150 SANCHEZ</td>\n",
       "            <td>S.F.</td>\n",
       "            <td>CA</td>\n",
       "            <td>94114</td>\n",
       "        </tr>\n",
       "    </tbody>\n",
       "</table>"
      ],
      "text/plain": [
       "[(10, 'Tiramisu Kitchen', '033 Belden Pl', 'San Francisco', '94104', 37.791116, -122.403816, None, 'H24', 779059, None, 'Tiramisu LLC', '33 Belden St', 'San Francisco', 'CA', '94104'),\n",
       " (19, 'Nrgize Lifestyle Cafe', '1200 Van Ness Ave, 3rd Floor', 'San Francisco', '94109', 37.786848, -122.421547, None, 'H24', None, None, '24 Hour Fitness Inc', '1200 Van Ness Ave, 3rd Floor', 'San Francisco', 'CA', '94109'),\n",
       " (24, 'OMNI S.F. Hotel - 2nd Floor Pantry', '500 California St, 2nd  Floor', 'San Francisco', '94104', 37.792888, -122.403135, None, 'H24', 352312, None, 'OMNI San Francisco Hotel Corp', '500 California St, 2nd Floor', 'San Francisco', 'CA', '94104'),\n",
       " (31, \"Norman's Ice Cream and Freezes\", '2801 Leavenworth St', 'San Francisco', '94133', 37.807155, -122.419004, None, 'H24', 346882, None, 'Norman Antiforda', '2801 Leavenworth St', 'San Francisco', 'CA', '94133'),\n",
       " (45, \"CHARLIE'S DELI CAFE\", '3202 FOLSOM St', 'S.F.', '94110', 37.747114, -122.413641, None, 'H24', 340024, '2001-10-10', 'HARB, CHARLES AND KRISTIN', '1150 SANCHEZ', 'S.F.', 'CA', '94114')]"
      ]
     },
     "execution_count": 2,
     "metadata": {},
     "output_type": "execute_result"
    }
   ],
   "source": [
    "%sql SELECT * from businesses limit 5"
   ]
  },
  {
   "cell_type": "code",
   "execution_count": 3,
   "metadata": {},
   "outputs": [
    {
     "name": "stdout",
     "output_type": "stream",
     "text": [
      " * sqlite:///sfscores.sqlite\n",
      "Done.\n"
     ]
    },
    {
     "data": {
      "text/html": [
       "<table>\n",
       "    <thead>\n",
       "        <tr>\n",
       "            <th>COUNT(business_id)</th>\n",
       "        </tr>\n",
       "    </thead>\n",
       "    <tbody>\n",
       "        <tr>\n",
       "            <td>7619</td>\n",
       "        </tr>\n",
       "    </tbody>\n",
       "</table>"
      ],
      "text/plain": [
       "[(7619,)]"
      ]
     },
     "execution_count": 3,
     "metadata": {},
     "output_type": "execute_result"
    }
   ],
   "source": [
    "%sql SELECT COUNT(business_id) FROM businesses"
   ]
  },
  {
   "cell_type": "markdown",
   "metadata": {},
   "source": [
    "**2. Write a SQL query that finds out how many unique business names are registered with San Francisco Food health investigation organization and name the column as unique restaurant name count.**"
   ]
  },
  {
   "cell_type": "code",
   "execution_count": 4,
   "metadata": {},
   "outputs": [
    {
     "name": "stdout",
     "output_type": "stream",
     "text": [
      " * sqlite:///sfscores.sqlite\n",
      "Done.\n"
     ]
    },
    {
     "data": {
      "text/html": [
       "<table>\n",
       "    <thead>\n",
       "        <tr>\n",
       "            <th>COUNT(DISTINCT name)</th>\n",
       "        </tr>\n",
       "    </thead>\n",
       "    <tbody>\n",
       "        <tr>\n",
       "            <td>7060</td>\n",
       "        </tr>\n",
       "    </tbody>\n",
       "</table>"
      ],
      "text/plain": [
       "[(7060,)]"
      ]
     },
     "execution_count": 4,
     "metadata": {},
     "output_type": "execute_result"
    }
   ],
   "source": [
    "%sql SELECT COUNT(DISTINCT name) FROM businesses"
   ]
  },
  {
   "cell_type": "markdown",
   "metadata": {},
   "source": [
    "**3. Write a SQL query that finds out what is the earliest and latest date a health investigation is recorded in this database.**"
   ]
  },
  {
   "cell_type": "code",
   "execution_count": 5,
   "metadata": {},
   "outputs": [
    {
     "name": "stdout",
     "output_type": "stream",
     "text": [
      " * sqlite:///sfscores.sqlite\n",
      "Done.\n"
     ]
    },
    {
     "data": {
      "text/html": [
       "<table>\n",
       "    <thead>\n",
       "        <tr>\n",
       "            <th>earliest_date</th>\n",
       "            <th>latest_date</th>\n",
       "        </tr>\n",
       "    </thead>\n",
       "    <tbody>\n",
       "        <tr>\n",
       "            <td>20131007</td>\n",
       "            <td>20161215</td>\n",
       "        </tr>\n",
       "    </tbody>\n",
       "</table>"
      ],
      "text/plain": [
       "[(20131007, 20161215)]"
      ]
     },
     "execution_count": 5,
     "metadata": {},
     "output_type": "execute_result"
    }
   ],
   "source": [
    "%%sql\n",
    "SELECT \n",
    "min(date) as earliest_date,\n",
    "max(date) as latest_date\n",
    "FROM inspections"
   ]
  },
  {
   "cell_type": "markdown",
   "metadata": {},
   "source": [
    "**4. How many businesses are there in San Francisco where their owners live in the same area (postal code/ zip code) as the business is located?**"
   ]
  },
  {
   "cell_type": "code",
   "execution_count": 6,
   "metadata": {},
   "outputs": [
    {
     "name": "stdout",
     "output_type": "stream",
     "text": [
      " * sqlite:///sfscores.sqlite\n",
      "Done.\n"
     ]
    },
    {
     "data": {
      "text/html": [
       "<table>\n",
       "    <thead>\n",
       "        <tr>\n",
       "            <th>COUNT(business_id)</th>\n",
       "        </tr>\n",
       "    </thead>\n",
       "    <tbody>\n",
       "        <tr>\n",
       "            <td>4053</td>\n",
       "        </tr>\n",
       "    </tbody>\n",
       "</table>"
      ],
      "text/plain": [
       "[(4053,)]"
      ]
     },
     "execution_count": 6,
     "metadata": {},
     "output_type": "execute_result"
    }
   ],
   "source": [
    "%%sql\n",
    "\n",
    "SELECT COUNT(business_id)\n",
    "FROM businesses\n",
    "WHERE postal_code = owner_zip"
   ]
  },
  {
   "cell_type": "markdown",
   "metadata": {},
   "source": [
    "**5. Out of those businesses, how many of them has a registered business certificate?**"
   ]
  },
  {
   "cell_type": "code",
   "execution_count": 7,
   "metadata": {},
   "outputs": [
    {
     "name": "stdout",
     "output_type": "stream",
     "text": [
      " * sqlite:///sfscores.sqlite\n",
      "Done.\n"
     ]
    },
    {
     "data": {
      "text/html": [
       "<table>\n",
       "    <thead>\n",
       "        <tr>\n",
       "            <th>COUNT(*)</th>\n",
       "        </tr>\n",
       "    </thead>\n",
       "    <tbody>\n",
       "        <tr>\n",
       "            <td>3373</td>\n",
       "        </tr>\n",
       "    </tbody>\n",
       "</table>"
      ],
      "text/plain": [
       "[(3373,)]"
      ]
     },
     "execution_count": 7,
     "metadata": {},
     "output_type": "execute_result"
    }
   ],
   "source": [
    "%%sql\n",
    "\n",
    "SELECT COUNT(*)\n",
    "FROM businesses\n",
    "WHERE \n",
    "postal_code = owner_zip AND\n",
    "business_certificate iS NOT NULL"
   ]
  },
  {
   "cell_type": "markdown",
   "metadata": {},
   "source": [
    "## Pt2: Groupby"
   ]
  },
  {
   "cell_type": "markdown",
   "metadata": {},
   "source": [
    "**6. Find out the distribution of the risk exposure of all the violations reported in the database. The first column of the result should 'risk_category' and the second column the count.**"
   ]
  },
  {
   "cell_type": "code",
   "execution_count": 8,
   "metadata": {},
   "outputs": [
    {
     "name": "stdout",
     "output_type": "stream",
     "text": [
      " * sqlite:///sfscores.sqlite\n",
      "Done.\n"
     ]
    },
    {
     "data": {
      "text/html": [
       "<table>\n",
       "    <thead>\n",
       "        <tr>\n",
       "            <th>risk_category</th>\n",
       "            <th>num_violations</th>\n",
       "        </tr>\n",
       "    </thead>\n",
       "    <tbody>\n",
       "        <tr>\n",
       "            <td>Low Risk</td>\n",
       "            <td>20996</td>\n",
       "        </tr>\n",
       "        <tr>\n",
       "            <td>Moderate Risk</td>\n",
       "            <td>14131</td>\n",
       "        </tr>\n",
       "        <tr>\n",
       "            <td>High Risk</td>\n",
       "            <td>5608</td>\n",
       "        </tr>\n",
       "    </tbody>\n",
       "</table>"
      ],
      "text/plain": [
       "[('Low Risk', 20996), ('Moderate Risk', 14131), ('High Risk', 5608)]"
      ]
     },
     "execution_count": 8,
     "metadata": {},
     "output_type": "execute_result"
    }
   ],
   "source": [
    "%%sql\n",
    "SELECT \n",
    "risk_category,\n",
    "count(*) as num_violations\n",
    "FROM \n",
    "VIOLATIONS\n",
    "GROUP BY risk_category\n",
    "ORDER BY num_violations DESC"
   ]
  },
  {
   "cell_type": "markdown",
   "metadata": {},
   "source": [
    "**7. Find out the distribution of the risk exposure of all the violations reported in the database that are *water related*. Sort them by frequency (count) from high to low.**"
   ]
  },
  {
   "cell_type": "code",
   "execution_count": 9,
   "metadata": {},
   "outputs": [
    {
     "name": "stdout",
     "output_type": "stream",
     "text": [
      " * sqlite:///sfscores.sqlite\n",
      "Done.\n"
     ]
    },
    {
     "data": {
      "text/html": [
       "<table>\n",
       "    <thead>\n",
       "        <tr>\n",
       "            <th>risk_category</th>\n",
       "            <th>num_violations</th>\n",
       "        </tr>\n",
       "    </thead>\n",
       "    <tbody>\n",
       "        <tr>\n",
       "            <td>Moderate Risk</td>\n",
       "            <td>630</td>\n",
       "        </tr>\n",
       "        <tr>\n",
       "            <td>High Risk</td>\n",
       "            <td>237</td>\n",
       "        </tr>\n",
       "    </tbody>\n",
       "</table>"
      ],
      "text/plain": [
       "[('Moderate Risk', 630), ('High Risk', 237)]"
      ]
     },
     "execution_count": 9,
     "metadata": {},
     "output_type": "execute_result"
    }
   ],
   "source": [
    "%%sql\n",
    "SELECT \n",
    "risk_category,\n",
    "count(*) as num_violations\n",
    "FROM \n",
    "VIOLATIONS\n",
    "WHERE description like'%water%'\n",
    "GROUP BY risk_category\n",
    "ORDER BY num_violations DESC"
   ]
  },
  {
   "cell_type": "markdown",
   "metadata": {},
   "source": [
    "** 8. What types of inspections does the authorities conduct and how often do they occur in general.\n",
    "    Calculate the distribution of different types of inspections with their frequency (type, frequency)\n",
    "    based on inspections records. Sort them in ascending order based on frequency.**"
   ]
  },
  {
   "cell_type": "code",
   "execution_count": 10,
   "metadata": {},
   "outputs": [
    {
     "name": "stdout",
     "output_type": "stream",
     "text": [
      " * sqlite:///sfscores.sqlite\n",
      "Done.\n"
     ]
    },
    {
     "data": {
      "text/html": [
       "<table>\n",
       "    <thead>\n",
       "        <tr>\n",
       "            <th>type</th>\n",
       "            <th>frequency</th>\n",
       "        </tr>\n",
       "    </thead>\n",
       "    <tbody>\n",
       "        <tr>\n",
       "            <td>Multi-agency Investigation</td>\n",
       "            <td>1</td>\n",
       "        </tr>\n",
       "        <tr>\n",
       "            <td>Administrative or Document Review</td>\n",
       "            <td>3</td>\n",
       "        </tr>\n",
       "        <tr>\n",
       "            <td>Special Event</td>\n",
       "            <td>7</td>\n",
       "        </tr>\n",
       "        <tr>\n",
       "            <td>Routine - Scheduled</td>\n",
       "            <td>74</td>\n",
       "        </tr>\n",
       "        <tr>\n",
       "            <td>Foodborne Illness Investigation</td>\n",
       "            <td>80</td>\n",
       "        </tr>\n",
       "        <tr>\n",
       "            <td>Complaint Reinspection/Followup</td>\n",
       "            <td>138</td>\n",
       "        </tr>\n",
       "        <tr>\n",
       "            <td>Structural Inspection</td>\n",
       "            <td>170</td>\n",
       "        </tr>\n",
       "        <tr>\n",
       "            <td>Non-inspection site visit</td>\n",
       "            <td>814</td>\n",
       "        </tr>\n",
       "        <tr>\n",
       "            <td>Complaint</td>\n",
       "            <td>1625</td>\n",
       "        </tr>\n",
       "        <tr>\n",
       "            <td>New Construction</td>\n",
       "            <td>1737</td>\n",
       "        </tr>\n",
       "        <tr>\n",
       "            <td>New Ownership</td>\n",
       "            <td>1843</td>\n",
       "        </tr>\n",
       "        <tr>\n",
       "            <td>Reinspection/Followup</td>\n",
       "            <td>5283</td>\n",
       "        </tr>\n",
       "        <tr>\n",
       "            <td>Routine - Unscheduled</td>\n",
       "            <td>15568</td>\n",
       "        </tr>\n",
       "    </tbody>\n",
       "</table>"
      ],
      "text/plain": [
       "[('Multi-agency Investigation', 1),\n",
       " ('Administrative or Document Review', 3),\n",
       " ('Special Event', 7),\n",
       " ('Routine - Scheduled', 74),\n",
       " ('Foodborne Illness Investigation', 80),\n",
       " ('Complaint Reinspection/Followup', 138),\n",
       " ('Structural Inspection', 170),\n",
       " ('Non-inspection site visit', 814),\n",
       " ('Complaint', 1625),\n",
       " ('New Construction', 1737),\n",
       " ('New Ownership', 1843),\n",
       " ('Reinspection/Followup', 5283),\n",
       " ('Routine - Unscheduled', 15568)]"
      ]
     },
     "execution_count": 10,
     "metadata": {},
     "output_type": "execute_result"
    }
   ],
   "source": [
    "%%sql\n",
    "SELECT type, count(*) as frequency FROM INSPECTIONS \n",
    "GROUP by type\n",
    "ORDER BY frequency"
   ]
  },
  {
   "cell_type": "markdown",
   "metadata": {},
   "source": [
    "** 9. What is the average score given to restaurants based on the type of inspection?\n",
    "    Based on the results, identify the types of inspections that are not scored (NULL)\n",
    "    and remove those categories from the resultset. The 'average_score' should be rounded\n",
    "    to one decimal. Sort the results in ascending order based on the average score. Hint: use the function `ROUND(score, 1)`**"
   ]
  },
  {
   "cell_type": "code",
   "execution_count": 11,
   "metadata": {},
   "outputs": [
    {
     "name": "stdout",
     "output_type": "stream",
     "text": [
      " * sqlite:///sfscores.sqlite\n",
      "Done.\n"
     ]
    },
    {
     "data": {
      "text/html": [
       "<table>\n",
       "    <thead>\n",
       "        <tr>\n",
       "            <th>type</th>\n",
       "            <th>avg_score</th>\n",
       "        </tr>\n",
       "    </thead>\n",
       "    <tbody>\n",
       "        <tr>\n",
       "            <td>Administrative or Document Review</td>\n",
       "            <td>None</td>\n",
       "        </tr>\n",
       "        <tr>\n",
       "            <td>Complaint</td>\n",
       "            <td>None</td>\n",
       "        </tr>\n",
       "        <tr>\n",
       "            <td>Complaint Reinspection/Followup</td>\n",
       "            <td>None</td>\n",
       "        </tr>\n",
       "        <tr>\n",
       "            <td>Foodborne Illness Investigation</td>\n",
       "            <td>None</td>\n",
       "        </tr>\n",
       "        <tr>\n",
       "            <td>Multi-agency Investigation</td>\n",
       "            <td>None</td>\n",
       "        </tr>\n",
       "        <tr>\n",
       "            <td>New Construction</td>\n",
       "            <td>None</td>\n",
       "        </tr>\n",
       "        <tr>\n",
       "            <td>Non-inspection site visit</td>\n",
       "            <td>None</td>\n",
       "        </tr>\n",
       "        <tr>\n",
       "            <td>Routine - Scheduled</td>\n",
       "            <td>None</td>\n",
       "        </tr>\n",
       "        <tr>\n",
       "            <td>Special Event</td>\n",
       "            <td>None</td>\n",
       "        </tr>\n",
       "        <tr>\n",
       "            <td>Structural Inspection</td>\n",
       "            <td>None</td>\n",
       "        </tr>\n",
       "        <tr>\n",
       "            <td>Reinspection/Followup</td>\n",
       "            <td>85.0</td>\n",
       "        </tr>\n",
       "        <tr>\n",
       "            <td>Routine - Unscheduled</td>\n",
       "            <td>91.2</td>\n",
       "        </tr>\n",
       "        <tr>\n",
       "            <td>New Ownership</td>\n",
       "            <td>100.0</td>\n",
       "        </tr>\n",
       "    </tbody>\n",
       "</table>"
      ],
      "text/plain": [
       "[('Administrative or Document Review', None),\n",
       " ('Complaint', None),\n",
       " ('Complaint Reinspection/Followup', None),\n",
       " ('Foodborne Illness Investigation', None),\n",
       " ('Multi-agency Investigation', None),\n",
       " ('New Construction', None),\n",
       " ('Non-inspection site visit', None),\n",
       " ('Routine - Scheduled', None),\n",
       " ('Special Event', None),\n",
       " ('Structural Inspection', None),\n",
       " ('Reinspection/Followup', 85.0),\n",
       " ('Routine - Unscheduled', 91.2),\n",
       " ('New Ownership', 100.0)]"
      ]
     },
     "execution_count": 11,
     "metadata": {},
     "output_type": "execute_result"
    }
   ],
   "source": [
    "%%sql\n",
    "SELECT type, ROUND(avg(Score),1) as avg_score\n",
    "FROM INSPECTIONS \n",
    "GROUP by type\n",
    "ORDER BY avg_score"
   ]
  },
  {
   "cell_type": "markdown",
   "metadata": {},
   "source": [
    "** 10. Find the restaurant owners (owner_name) that own one or multiple restaurants in the city\n",
    "    with the number of restaurants (num_restaurants) they own.\n",
    "    Find the first top 10 owners ordered by descending order using the number of restaurants.**"
   ]
  },
  {
   "cell_type": "code",
   "execution_count": 12,
   "metadata": {},
   "outputs": [
    {
     "name": "stdout",
     "output_type": "stream",
     "text": [
      " * sqlite:///sfscores.sqlite\n",
      "Done.\n"
     ]
    },
    {
     "data": {
      "text/html": [
       "<table>\n",
       "    <thead>\n",
       "        <tr>\n",
       "            <th>owner_name</th>\n",
       "            <th>num_restaurants</th>\n",
       "        </tr>\n",
       "    </thead>\n",
       "    <tbody>\n",
       "        <tr>\n",
       "            <td>VOLUME SERVICES AMERICA</td>\n",
       "            <td>94</td>\n",
       "        </tr>\n",
       "        <tr>\n",
       "            <td>Department of Children, Youth and their Families</td>\n",
       "            <td>64</td>\n",
       "        </tr>\n",
       "        <tr>\n",
       "            <td>SFUSD</td>\n",
       "            <td>44</td>\n",
       "        </tr>\n",
       "        <tr>\n",
       "            <td>Volume Services, Inc.</td>\n",
       "            <td>41</td>\n",
       "        </tr>\n",
       "        <tr>\n",
       "            <td>Children&#x27;s Empowerment Inc.</td>\n",
       "            <td>37</td>\n",
       "        </tr>\n",
       "        <tr>\n",
       "            <td>SAN FRANCISCO UNIFIED SCHOOL</td>\n",
       "            <td>34</td>\n",
       "        </tr>\n",
       "        <tr>\n",
       "            <td>WALGREEN CO.</td>\n",
       "            <td>17</td>\n",
       "        </tr>\n",
       "        <tr>\n",
       "            <td>Walgreen Co</td>\n",
       "            <td>15</td>\n",
       "        </tr>\n",
       "        <tr>\n",
       "            <td>SMG Food and Beverage LLC</td>\n",
       "            <td>15</td>\n",
       "        </tr>\n",
       "        <tr>\n",
       "            <td>Walgreen Co.</td>\n",
       "            <td>14</td>\n",
       "        </tr>\n",
       "    </tbody>\n",
       "</table>"
      ],
      "text/plain": [
       "[('VOLUME SERVICES AMERICA', 94),\n",
       " ('Department of Children, Youth and their Families', 64),\n",
       " ('SFUSD', 44),\n",
       " ('Volume Services, Inc.', 41),\n",
       " (\"Children's Empowerment Inc.\", 37),\n",
       " ('SAN FRANCISCO UNIFIED SCHOOL', 34),\n",
       " ('WALGREEN CO.', 17),\n",
       " ('Walgreen Co', 15),\n",
       " ('SMG Food and Beverage LLC', 15),\n",
       " ('Walgreen Co.', 14)]"
      ]
     },
     "execution_count": 12,
     "metadata": {},
     "output_type": "execute_result"
    }
   ],
   "source": [
    "%%sql\n",
    "SELECT owner_name, count(*) as num_restaurants\n",
    "FROM BUSINESSES\n",
    "GROUP BY 1\n",
    "ORDER BY num_restaurants DESC\n",
    "LIMIT 10"
   ]
  },
  {
   "cell_type": "markdown",
   "metadata": {},
   "source": [
    "## Pt3: Subqueries and joins"
   ]
  },
  {
   "cell_type": "markdown",
   "metadata": {},
   "source": [
    "** 11. From the businesses table, select the top 10 most popular postal_code. They should be filtered to only count the restaurants owned by people/entities that own 5 or more restaurants. The final result should return a row (postal_code, count) for each 10 selection and be sorted by descending order to get the most relevant zip codes\n",
    "**"
   ]
  },
  {
   "cell_type": "code",
   "execution_count": 13,
   "metadata": {},
   "outputs": [
    {
     "name": "stdout",
     "output_type": "stream",
     "text": [
      " * sqlite:///sfscores.sqlite\n",
      "Done.\n"
     ]
    },
    {
     "data": {
      "text/html": [
       "<table>\n",
       "    <thead>\n",
       "        <tr>\n",
       "            <th>postal_code</th>\n",
       "            <th>num_restaurants</th>\n",
       "        </tr>\n",
       "    </thead>\n",
       "    <tbody>\n",
       "        <tr>\n",
       "            <td>94107</td>\n",
       "            <td>179</td>\n",
       "        </tr>\n",
       "        <tr>\n",
       "            <td>94103</td>\n",
       "            <td>68</td>\n",
       "        </tr>\n",
       "        <tr>\n",
       "            <td>94102</td>\n",
       "            <td>56</td>\n",
       "        </tr>\n",
       "        <tr>\n",
       "            <td>94110</td>\n",
       "            <td>32</td>\n",
       "        </tr>\n",
       "        <tr>\n",
       "            <td>94112</td>\n",
       "            <td>30</td>\n",
       "        </tr>\n",
       "        <tr>\n",
       "            <td>94104</td>\n",
       "            <td>28</td>\n",
       "        </tr>\n",
       "        <tr>\n",
       "            <td>94124</td>\n",
       "            <td>27</td>\n",
       "        </tr>\n",
       "        <tr>\n",
       "            <td>94105</td>\n",
       "            <td>23</td>\n",
       "        </tr>\n",
       "        <tr>\n",
       "            <td>94133</td>\n",
       "            <td>22</td>\n",
       "        </tr>\n",
       "        <tr>\n",
       "            <td>94111</td>\n",
       "            <td>21</td>\n",
       "        </tr>\n",
       "    </tbody>\n",
       "</table>"
      ],
      "text/plain": [
       "[('94107', 179),\n",
       " ('94103', 68),\n",
       " ('94102', 56),\n",
       " ('94110', 32),\n",
       " ('94112', 30),\n",
       " ('94104', 28),\n",
       " ('94124', 27),\n",
       " ('94105', 23),\n",
       " ('94133', 22),\n",
       " ('94111', 21)]"
      ]
     },
     "execution_count": 13,
     "metadata": {},
     "output_type": "execute_result"
    }
   ],
   "source": [
    "%%sql\n",
    "SELECT postal_code, count(*) as num_restaurants\n",
    "FROM BUSINESSES\n",
    "WHERE owner_name in (SELECT owner_name\n",
    "                    FROM BUSINESSES\n",
    "                    GROUP BY owner_name\n",
    "                    HAVING count(*) >=5\n",
    "                    )\n",
    "GROUP BY postal_code\n",
    "ORDER BY num_restaurants DESC\n",
    "LIMIT 10"
   ]
  },
  {
   "cell_type": "code",
   "execution_count": 14,
   "metadata": {},
   "outputs": [
    {
     "name": "stdout",
     "output_type": "stream",
     "text": [
      " * sqlite:///sfscores.sqlite\n",
      "Done.\n"
     ]
    },
    {
     "data": {
      "text/html": [
       "<table>\n",
       "    <thead>\n",
       "        <tr>\n",
       "            <th>owner_name</th>\n",
       "            <th>num_restaurants</th>\n",
       "        </tr>\n",
       "    </thead>\n",
       "    <tbody>\n",
       "        <tr>\n",
       "            <td>VOLUME SERVICES AMERICA</td>\n",
       "            <td>94</td>\n",
       "        </tr>\n",
       "        <tr>\n",
       "            <td>Department of Children, Youth and their Families</td>\n",
       "            <td>64</td>\n",
       "        </tr>\n",
       "        <tr>\n",
       "            <td>SFUSD</td>\n",
       "            <td>44</td>\n",
       "        </tr>\n",
       "        <tr>\n",
       "            <td>Volume Services, Inc.</td>\n",
       "            <td>41</td>\n",
       "        </tr>\n",
       "        <tr>\n",
       "            <td>Children&#x27;s Empowerment Inc.</td>\n",
       "            <td>37</td>\n",
       "        </tr>\n",
       "        <tr>\n",
       "            <td>SAN FRANCISCO UNIFIED SCHOOL</td>\n",
       "            <td>34</td>\n",
       "        </tr>\n",
       "        <tr>\n",
       "            <td>WALGREEN CO.</td>\n",
       "            <td>17</td>\n",
       "        </tr>\n",
       "        <tr>\n",
       "            <td>Walgreen Co</td>\n",
       "            <td>15</td>\n",
       "        </tr>\n",
       "        <tr>\n",
       "            <td>SMG Food and Beverage LLC</td>\n",
       "            <td>15</td>\n",
       "        </tr>\n",
       "        <tr>\n",
       "            <td>Walgreen Co.</td>\n",
       "            <td>14</td>\n",
       "        </tr>\n",
       "        <tr>\n",
       "            <td>Starbucks Corporation</td>\n",
       "            <td>13</td>\n",
       "        </tr>\n",
       "        <tr>\n",
       "            <td>STARBUCKS COFFEE CO.</td>\n",
       "            <td>13</td>\n",
       "        </tr>\n",
       "        <tr>\n",
       "            <td>Starbucks Coffee Co</td>\n",
       "            <td>11</td>\n",
       "        </tr>\n",
       "        <tr>\n",
       "            <td>San Francisco Unified School District</td>\n",
       "            <td>11</td>\n",
       "        </tr>\n",
       "        <tr>\n",
       "            <td>Bon Appetit Management Company</td>\n",
       "            <td>11</td>\n",
       "        </tr>\n",
       "        <tr>\n",
       "            <td>San Francisco Bay Concessionaires</td>\n",
       "            <td>10</td>\n",
       "        </tr>\n",
       "        <tr>\n",
       "            <td>Garfield Beach CVS, LLC</td>\n",
       "            <td>10</td>\n",
       "        </tr>\n",
       "        <tr>\n",
       "            <td>Au Energy, LLC</td>\n",
       "            <td>10</td>\n",
       "        </tr>\n",
       "        <tr>\n",
       "            <td>San Francisco Soup Company</td>\n",
       "            <td>9</td>\n",
       "        </tr>\n",
       "        <tr>\n",
       "            <td>RA CENTER LLC</td>\n",
       "            <td>9</td>\n",
       "        </tr>\n",
       "        <tr>\n",
       "            <td>Bon Appetit Management Co</td>\n",
       "            <td>9</td>\n",
       "        </tr>\n",
       "        <tr>\n",
       "            <td>None</td>\n",
       "            <td>9</td>\n",
       "        </tr>\n",
       "        <tr>\n",
       "            <td>Target Corporation</td>\n",
       "            <td>8</td>\n",
       "        </tr>\n",
       "        <tr>\n",
       "            <td>STARBUCKS COFFEE COMPANY</td>\n",
       "            <td>8</td>\n",
       "        </tr>\n",
       "        <tr>\n",
       "            <td>JUMA VENTURES, INC.</td>\n",
       "            <td>8</td>\n",
       "        </tr>\n",
       "        <tr>\n",
       "            <td>Volume Services, Inc./Centerplate</td>\n",
       "            <td>7</td>\n",
       "        </tr>\n",
       "        <tr>\n",
       "            <td>SAFEWAY STORES, INC.</td>\n",
       "            <td>7</td>\n",
       "        </tr>\n",
       "        <tr>\n",
       "            <td>S.F. Unified School District</td>\n",
       "            <td>7</td>\n",
       "        </tr>\n",
       "        <tr>\n",
       "            <td>MARRIOTT HOTELS, INC.</td>\n",
       "            <td>7</td>\n",
       "        </tr>\n",
       "        <tr>\n",
       "            <td>Guckenheimer Services, LLC</td>\n",
       "            <td>7</td>\n",
       "        </tr>\n",
       "        <tr>\n",
       "            <td>Children&#x27;s Empowerment, Inc.</td>\n",
       "            <td>7</td>\n",
       "        </tr>\n",
       "        <tr>\n",
       "            <td>Walgreens Co.</td>\n",
       "            <td>6</td>\n",
       "        </tr>\n",
       "        <tr>\n",
       "            <td>Volume Services America, Inc.</td>\n",
       "            <td>6</td>\n",
       "        </tr>\n",
       "        <tr>\n",
       "            <td>Valley Juice LLC</td>\n",
       "            <td>6</td>\n",
       "        </tr>\n",
       "        <tr>\n",
       "            <td>VOLUME SERVICES INC</td>\n",
       "            <td>6</td>\n",
       "        </tr>\n",
       "        <tr>\n",
       "            <td>SF Hilton, LLC</td>\n",
       "            <td>6</td>\n",
       "        </tr>\n",
       "        <tr>\n",
       "            <td>Peet&#x27;s Coffee &amp; Tea</td>\n",
       "            <td>6</td>\n",
       "        </tr>\n",
       "        <tr>\n",
       "            <td>OMNI San Francisco Hotel Corp</td>\n",
       "            <td>6</td>\n",
       "        </tr>\n",
       "        <tr>\n",
       "            <td>MACYS WEST STORES INC</td>\n",
       "            <td>6</td>\n",
       "        </tr>\n",
       "        <tr>\n",
       "            <td>Huskies Lessee LLC</td>\n",
       "            <td>6</td>\n",
       "        </tr>\n",
       "        <tr>\n",
       "            <td>Dtrs St Francis LLC</td>\n",
       "            <td>6</td>\n",
       "        </tr>\n",
       "        <tr>\n",
       "            <td>Chipotle Mexican Grill, Inc.</td>\n",
       "            <td>6</td>\n",
       "        </tr>\n",
       "        <tr>\n",
       "            <td>CDC SF, LLC</td>\n",
       "            <td>6</td>\n",
       "        </tr>\n",
       "        <tr>\n",
       "            <td>Bon Appetit Management Co.</td>\n",
       "            <td>6</td>\n",
       "        </tr>\n",
       "        <tr>\n",
       "            <td>Viva Soma Lessee Inc.</td>\n",
       "            <td>5</td>\n",
       "        </tr>\n",
       "        <tr>\n",
       "            <td>THE ABSINTHE GROUP INC</td>\n",
       "            <td>5</td>\n",
       "        </tr>\n",
       "        <tr>\n",
       "            <td>Starbucks Coffee Company</td>\n",
       "            <td>5</td>\n",
       "        </tr>\n",
       "        <tr>\n",
       "            <td>Sodexo America LLC</td>\n",
       "            <td>5</td>\n",
       "        </tr>\n",
       "        <tr>\n",
       "            <td>Mason Street OpCo, LLC</td>\n",
       "            <td>5</td>\n",
       "        </tr>\n",
       "        <tr>\n",
       "            <td>Lettus LLC</td>\n",
       "            <td>5</td>\n",
       "        </tr>\n",
       "        <tr>\n",
       "            <td>LSF Hotel, LLC</td>\n",
       "            <td>5</td>\n",
       "        </tr>\n",
       "        <tr>\n",
       "            <td>General Nutrition Corp</td>\n",
       "            <td>5</td>\n",
       "        </tr>\n",
       "        <tr>\n",
       "            <td>EK Food Services, Inc.</td>\n",
       "            <td>5</td>\n",
       "        </tr>\n",
       "        <tr>\n",
       "            <td>Advanced Fresh Concepts Franchise Corp.</td>\n",
       "            <td>5</td>\n",
       "        </tr>\n",
       "    </tbody>\n",
       "</table>"
      ],
      "text/plain": [
       "[('VOLUME SERVICES AMERICA', 94),\n",
       " ('Department of Children, Youth and their Families', 64),\n",
       " ('SFUSD', 44),\n",
       " ('Volume Services, Inc.', 41),\n",
       " (\"Children's Empowerment Inc.\", 37),\n",
       " ('SAN FRANCISCO UNIFIED SCHOOL', 34),\n",
       " ('WALGREEN CO.', 17),\n",
       " ('Walgreen Co', 15),\n",
       " ('SMG Food and Beverage LLC', 15),\n",
       " ('Walgreen Co.', 14),\n",
       " ('Starbucks Corporation', 13),\n",
       " ('STARBUCKS COFFEE CO.', 13),\n",
       " ('Starbucks Coffee Co', 11),\n",
       " ('San Francisco Unified School District', 11),\n",
       " ('Bon Appetit Management Company', 11),\n",
       " ('San Francisco Bay Concessionaires', 10),\n",
       " ('Garfield Beach CVS, LLC', 10),\n",
       " ('Au Energy, LLC', 10),\n",
       " ('San Francisco Soup Company', 9),\n",
       " ('RA CENTER LLC', 9),\n",
       " ('Bon Appetit Management Co', 9),\n",
       " (None, 9),\n",
       " ('Target Corporation', 8),\n",
       " ('STARBUCKS COFFEE COMPANY', 8),\n",
       " ('JUMA VENTURES, INC.', 8),\n",
       " ('Volume Services, Inc./Centerplate', 7),\n",
       " ('SAFEWAY STORES, INC.', 7),\n",
       " ('S.F. Unified School District', 7),\n",
       " ('MARRIOTT HOTELS, INC.', 7),\n",
       " ('Guckenheimer Services, LLC', 7),\n",
       " (\"Children's Empowerment, Inc.\", 7),\n",
       " ('Walgreens Co.', 6),\n",
       " ('Volume Services America, Inc.', 6),\n",
       " ('Valley Juice LLC', 6),\n",
       " ('VOLUME SERVICES INC', 6),\n",
       " ('SF Hilton, LLC', 6),\n",
       " (\"Peet's Coffee & Tea\", 6),\n",
       " ('OMNI San Francisco Hotel Corp', 6),\n",
       " ('MACYS WEST STORES INC', 6),\n",
       " ('Huskies Lessee LLC', 6),\n",
       " ('Dtrs St Francis LLC', 6),\n",
       " ('Chipotle Mexican Grill, Inc.', 6),\n",
       " ('CDC SF, LLC', 6),\n",
       " ('Bon Appetit Management Co.', 6),\n",
       " ('Viva Soma Lessee Inc.', 5),\n",
       " ('THE ABSINTHE GROUP INC', 5),\n",
       " ('Starbucks Coffee Company', 5),\n",
       " ('Sodexo America LLC', 5),\n",
       " ('Mason Street OpCo, LLC', 5),\n",
       " ('Lettus LLC', 5),\n",
       " ('LSF Hotel, LLC', 5),\n",
       " ('General Nutrition Corp', 5),\n",
       " ('EK Food Services, Inc.', 5),\n",
       " ('Advanced Fresh Concepts Franchise Corp.', 5)]"
      ]
     },
     "execution_count": 14,
     "metadata": {},
     "output_type": "execute_result"
    }
   ],
   "source": [
    "%%sql\n",
    "-- People owning 5 or more restaurants\n",
    "SELECT owner_name, count(*) as num_restaurants\n",
    "FROM BUSINESSES\n",
    "GROUP BY owner_name\n",
    "HAVING num_restaurants >=5\n",
    "ORDER BY num_restaurants DESC"
   ]
  },
  {
   "cell_type": "markdown",
   "metadata": {},
   "source": [
    "**12. First let's get an idea about the inspection score our competition has.\n",
    "    Based on multiple inspections, find out the minimum Score (as \"min_score\"),\n",
    "    average Score (as \"avg_score\") and maximum Score (as \"max_score\") for all restaurant in post code \"94103\".\n",
    "    The average score should be rounded to one decimal.**"
   ]
  },
  {
   "cell_type": "code",
   "execution_count": 15,
   "metadata": {},
   "outputs": [
    {
     "name": "stdout",
     "output_type": "stream",
     "text": [
      " * sqlite:///sfscores.sqlite\n",
      "Done.\n"
     ]
    },
    {
     "data": {
      "text/html": [
       "<table>\n",
       "    <thead>\n",
       "        <tr>\n",
       "            <th>min_score</th>\n",
       "            <th>avg_score</th>\n",
       "            <th>max_score</th>\n",
       "        </tr>\n",
       "    </thead>\n",
       "    <tbody>\n",
       "        <tr>\n",
       "            <td>54</td>\n",
       "            <td>90.2</td>\n",
       "            <td>100</td>\n",
       "        </tr>\n",
       "    </tbody>\n",
       "</table>"
      ],
      "text/plain": [
       "[(54, 90.2, 100)]"
      ]
     },
     "execution_count": 15,
     "metadata": {},
     "output_type": "execute_result"
    }
   ],
   "source": [
    "%%sql\n",
    "\n",
    "SELECT \n",
    "MIN(Score) as min_score,\n",
    "ROUND(AVG(Score),1) as avg_score,\n",
    "MAX(Score) as max_score\n",
    "FROM INSPECTIONS \n",
    "WHERE business_id in (\n",
    "                        SELECT business_id\n",
    "                        FROM BUSINESSES\n",
    "                        WHERE postal_code  =94103)"
   ]
  },
  {
   "cell_type": "markdown",
   "metadata": {},
   "source": [
    "** 13. Now lets get more serious, and look at how many times restaurants in Market street\n",
    "    (postal_code: 94103) has committed health violations and group them based on their risk category.\n",
    "    The output should be (risk_category, count as frequency) and sorted in descending order by frequency**"
   ]
  },
  {
   "cell_type": "code",
   "execution_count": 16,
   "metadata": {},
   "outputs": [
    {
     "name": "stdout",
     "output_type": "stream",
     "text": [
      " * sqlite:///sfscores.sqlite\n",
      "Done.\n"
     ]
    },
    {
     "data": {
      "text/html": [
       "<table>\n",
       "    <thead>\n",
       "        <tr>\n",
       "            <th>risk_category</th>\n",
       "            <th>frequency</th>\n",
       "        </tr>\n",
       "    </thead>\n",
       "    <tbody>\n",
       "        <tr>\n",
       "            <td>Low Risk</td>\n",
       "            <td>1746</td>\n",
       "        </tr>\n",
       "        <tr>\n",
       "            <td>Moderate Risk</td>\n",
       "            <td>1229</td>\n",
       "        </tr>\n",
       "        <tr>\n",
       "            <td>High Risk</td>\n",
       "            <td>520</td>\n",
       "        </tr>\n",
       "    </tbody>\n",
       "</table>"
      ],
      "text/plain": [
       "[('Low Risk', 1746), ('Moderate Risk', 1229), ('High Risk', 520)]"
      ]
     },
     "execution_count": 16,
     "metadata": {},
     "output_type": "execute_result"
    }
   ],
   "source": [
    "%%sql\n",
    "SELECT \n",
    "risk_category,\n",
    "count(*) as frequency\n",
    "FROM VIOLATIONS as v\n",
    "INNER JOIN BUSINESSES as b\n",
    "on v.business_id = b.business_id\n",
    "AND postal_code = 94103\n",
    "GROUP BY risk_category\n",
    "ORDER BY frequency DESC"
   ]
  },
  {
   "cell_type": "code",
   "execution_count": null,
   "metadata": {},
   "outputs": [],
   "source": []
  }
 ],
 "metadata": {
  "kernelspec": {
   "display_name": "Python 3",
   "language": "python",
   "name": "python3"
  },
  "language_info": {
   "codemirror_mode": {
    "name": "ipython",
    "version": 3
   },
   "file_extension": ".py",
   "mimetype": "text/x-python",
   "name": "python",
   "nbconvert_exporter": "python",
   "pygments_lexer": "ipython3",
   "version": "3.8.5"
  }
 },
 "nbformat": 4,
 "nbformat_minor": 4
}
